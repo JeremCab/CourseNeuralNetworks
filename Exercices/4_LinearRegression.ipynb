{
 "cells": [
  {
   "cell_type": "markdown",
   "metadata": {},
   "source": [
    "# Linear Regression"
   ]
  },
  {
   "cell_type": "markdown",
   "metadata": {},
   "source": [
    "<img src=\"files/figures/LinReg.jpg\" width=\"450px\"/>\n",
    "\n",
    "Image taken from: \n",
    "https://www.statstest.com/multiple-linear-regression/"
   ]
  },
  {
   "cell_type": "markdown",
   "metadata": {},
   "source": [
    "<div class=\"alert alert-block alert-info\">\n",
    "    \n",
    "Consider the following **training set** composed of $N$ observations:\n",
    "\n",
    "$$\n",
    "S_{\\rm train} = \\left\\{ \\left( \\boldsymbol{x_1}, y_1 \\right), \\dots, \\left( \\boldsymbol{x_N}, y_N \\right) \\right\\}.\n",
    "$$\n",
    "\n",
    "We define the feature matrix $\\boldsymbol{X}$ and target vector $\\boldsymbol{y}$ as follows:\n",
    "\n",
    "$$\n",
    "\\boldsymbol{X} =\n",
    "\\begin{pmatrix}\n",
    "1 & \\boldsymbol{x_1}^T \\\\\n",
    "\\vdots & \\vdots \\\\\n",
    "1 & \\boldsymbol{x_N}^T \n",
    "\\end{pmatrix}\n",
    "=\n",
    "\\begin{pmatrix}\n",
    "1 & x_{11} & \\cdots & x_{1p} \\\\\n",
    "\\vdots & \\vdots & \\ddots & \\vdots \\\\\n",
    "1 & x_{N1} &\\cdots & x_{Np}\n",
    "\\end{pmatrix}\n",
    "\\text{ and }\n",
    "\\boldsymbol{y} =\n",
    "\\begin{pmatrix}\n",
    "y_1 \\\\\n",
    "\\vdots \\\\\n",
    "y_N \n",
    "\\end{pmatrix}\n",
    "$$\n",
    "\n",
    "\n",
    "The solution of the **linear regression (LR)** is the vector\n",
    "$$\\boldsymbol{\\hat \\beta} = (\\hat \\beta_0, \\dots, \\hat \\beta_p)$$ which minimizes the **residual sum of squares (RSS)** (distances between predictions et target):\n",
    "\n",
    "$$\n",
    "\\mathrm{RSS(\\boldsymbol{\\beta})} \n",
    ":= \\sum_{i=1}^N \\big(\\boldsymbol{x_i}^T \\boldsymbol{\\beta} - y_i \\big)^2 \n",
    "= \\| \\boldsymbol{X} \\boldsymbol{\\beta} - \\boldsymbol{y} \\|^2\n",
    "$$\n",
    "\n",
    "We have (cf. course):\n",
    "\n",
    "$$\n",
    "\\boldsymbol{\\hat{\\beta}} \n",
    "= \\underset{\\boldsymbol{\\beta}}{\\arg \\min} \\left\\| \\boldsymbol{X} \\boldsymbol{\\beta} - \\boldsymbol{y} \\right\\|^2 \n",
    "= (\\boldsymbol{X}^T \\boldsymbol{X})^{-1} \\boldsymbol{X}^T \\boldsymbol{y}\n",
    "$$\n",
    "    \n",
    "</div>"
   ]
  },
  {
   "cell_type": "markdown",
   "metadata": {},
   "source": [
    "## Libraries"
   ]
  },
  {
   "cell_type": "code",
   "execution_count": 1,
   "metadata": {
    "execution": {
     "iopub.execute_input": "2022-09-04T03:35:46.145173Z",
     "iopub.status.busy": "2022-09-04T03:35:46.144726Z",
     "iopub.status.idle": "2022-09-04T03:35:46.151485Z",
     "shell.execute_reply": "2022-09-04T03:35:46.150106Z",
     "shell.execute_reply.started": "2022-09-04T03:35:46.145134Z"
    }
   },
   "outputs": [],
   "source": [
    "import pandas as pd\n",
    "import numpy as np\n",
    "from sklearn.model_selection import train_test_split\n",
    "\n",
    "import seaborn as sns\n",
    "from matplotlib import pyplot as plt\n",
    "\n",
    "%matplotlib inline\n",
    "sns.set_theme()"
   ]
  },
  {
   "cell_type": "markdown",
   "metadata": {},
   "source": [
    "## Data"
   ]
  },
  {
   "cell_type": "markdown",
   "metadata": {},
   "source": [
    "- Download the **Bottle Database** (csv file) from the **California Cooperative Oceanic Fisheries Investigations (CalOFI)** portal:<br>\n",
    "download: https://www.kaggle.com/datasets/sohier/calcofi<br>\n",
    "    info: https://calcofi.org/data/oceanographic-data/bottle-database/\n",
    "- Import the data and look at them with `pandas`.\n",
    "- Select only the following colunms of the dataset:<br>\n",
    "``columns = [\"T_degC\", \"O2Sat\", \"O2ml_L\", \"STheta\", \"O2Sat\", \"Salnty\"]``\n",
    "- Remove lines that contain empty values.<br>\n",
    "`data = data[data[columns].notnull().all(1)]`"
   ]
  },
  {
   "cell_type": "code",
   "execution_count": null,
   "metadata": {
    "execution": {
     "iopub.execute_input": "2022-09-04T03:35:46.157406Z",
     "iopub.status.busy": "2022-09-04T03:35:46.156766Z",
     "iopub.status.idle": "2022-09-04T03:35:56.345479Z",
     "shell.execute_reply": "2022-09-04T03:35:56.344092Z",
     "shell.execute_reply.started": "2022-09-04T03:35:46.157369Z"
    }
   },
   "outputs": [],
   "source": [
    "# Load data\n",
    "DATA_PATH = \"put your data path here...\"\n",
    "data = pd.read_csv(DATA_PATH, delimiter=',', low_memory=False)"
   ]
  },
  {
   "cell_type": "code",
   "execution_count": null,
   "metadata": {},
   "outputs": [],
   "source": []
  },
  {
   "cell_type": "code",
   "execution_count": null,
   "metadata": {},
   "outputs": [],
   "source": []
  },
  {
   "cell_type": "code",
   "execution_count": null,
   "metadata": {},
   "outputs": [],
   "source": []
  },
  {
   "cell_type": "markdown",
   "metadata": {},
   "source": [
    "## Linear Regression (LR)"
   ]
  },
  {
   "cell_type": "markdown",
   "metadata": {},
   "source": [
    "The **feature variables** are `\"O2Sat\", \"O2ml_L\", \"STheta\", \"O2Sat\", \"Salnty\"`.\n",
    "\n",
    "The **target variable** is `\"Salnty\"`.\n",
    "\n",
    "We want to predict the **target** using the **features**."
   ]
  },
  {
   "cell_type": "markdown",
   "metadata": {},
   "source": [
    "- Create the feature tensor $\\boldsymbol{X}$ (2D) and the target tensor $\\boldsymbol{y}$ (1D).<br>\n",
    "Don't forget to add a column of $1$'s in your features $\\boldsymbol{X}$.\n",
    "- Shuffle the data and split them into train and test sets:<br>\n",
    "(80% train / 20% test, use `train_test_split(...)`)\n",
    "- **Implement in `numpy` the LR solution $\\boldsymbol{\\hat \\beta}$ using the train dataset.**<br>\n",
    "(use `np.linalg.pinv()` for matrix inversion)\n",
    "- Compute the predictions $\\boldsymbol{\\hat y}$ on the train and test sets.\n",
    "- Plot the true values $\\boldsymbol{y}$ vs predictions $\\boldsymbol{\\hat y}$ for the train and test sets: if the predictions are good, the graph should look diagonal (why?)."
   ]
  },
  {
   "cell_type": "code",
   "execution_count": null,
   "metadata": {},
   "outputs": [],
   "source": []
  },
  {
   "cell_type": "code",
   "execution_count": null,
   "metadata": {},
   "outputs": [],
   "source": []
  },
  {
   "cell_type": "code",
   "execution_count": null,
   "metadata": {},
   "outputs": [],
   "source": []
  },
  {
   "cell_type": "markdown",
   "metadata": {},
   "source": [
    "**Conclusion:** Normally, we would do a more complex data analyis - investigate feature correlations, etc. - and then use a dedicated ML library to implement the model.\n",
    "\n",
    "Here, at least once in your life, you implemented the **linear regression** by yourself."
   ]
  }
 ],
 "metadata": {
  "kernelspec": {
   "display_name": "Python 3 (ipykernel)",
   "language": "python",
   "name": "python3"
  },
  "language_info": {
   "codemirror_mode": {
    "name": "ipython",
    "version": 3
   },
   "file_extension": ".py",
   "mimetype": "text/x-python",
   "name": "python",
   "nbconvert_exporter": "python",
   "pygments_lexer": "ipython3",
   "version": "3.9.5"
  }
 },
 "nbformat": 4,
 "nbformat_minor": 4
}
